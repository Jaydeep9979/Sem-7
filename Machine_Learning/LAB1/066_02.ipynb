{
 "cells": [
  {
   "cell_type": "code",
   "execution_count": 1,
   "metadata": {},
   "outputs": [],
   "source": [
    "import nltk\n",
    "import matplotlib.pyplot as plt\n",
    "from nltk.corpus import movie_reviews"
   ]
  },
  {
   "cell_type": "code",
   "execution_count": 2,
   "metadata": {},
   "outputs": [
    {
     "name": "stdout",
     "output_type": "stream",
     "text": [
      "[nltk_data] Downloading package movie_reviews to C:\\Users\\Jaydeep's_la\n",
      "[nltk_data]     ptop.JAYDEEP\\AppData\\Roaming\\nltk_data...\n",
      "[nltk_data]   Unzipping corpora\\movie_reviews.zip.\n"
     ]
    },
    {
     "data": {
      "text/plain": [
       "True"
      ]
     },
     "execution_count": 2,
     "metadata": {},
     "output_type": "execute_result"
    }
   ],
   "source": [
    "nltk.download('movie_reviews')"
   ]
  },
  {
   "cell_type": "code",
   "execution_count": 3,
   "metadata": {},
   "outputs": [
    {
     "data": {
      "text/plain": [
       "['neg', 'pos']"
      ]
     },
     "execution_count": 3,
     "metadata": {},
     "output_type": "execute_result"
    }
   ],
   "source": [
    "#movie revie categories\n",
    "movie_reviews.words()\n",
    "len(movie_reviews.words())\n",
    "movie_reviews.categories()"
   ]
  },
  {
   "cell_type": "code",
   "execution_count": 4,
   "metadata": {},
   "outputs": [
    {
     "name": "stdout",
     "output_type": "stream",
     "text": [
      "<FreqDist with 39768 samples and 1583820 outcomes>\n",
      "[(',', 77717), ('the', 76529), ('.', 65876), ('a', 38106), ('and', 35576), ('of', 34123), ('to', 31937), (\"'\", 30585), ('is', 25195), ('in', 21822), ('s', 18513), ('\"', 17612), ('it', 16107), ('that', 15924), ('-', 15595)]\n"
     ]
    }
   ],
   "source": [
    "print(nltk.FreqDist(movie_reviews.words()))\n",
    "print(nltk.FreqDist(movie_reviews.words()).most_common(15))"
   ]
  },
  {
   "cell_type": "code",
   "execution_count": 5,
   "metadata": {},
   "outputs": [
    {
     "name": "stdout",
     "output_type": "stream",
     "text": [
      "Number of positive revies 1000\n",
      "Number of negative revies 1000\n"
     ]
    }
   ],
   "source": [
    "#Diffetiating positive and negative reviews\n",
    "positive=movie_reviews.fileids('pos')\n",
    "negative=movie_reviews.fileids('neg')\n",
    "poslen=len(movie_reviews.fileids('pos'))\n",
    "neglen=len(movie_reviews.fileids('neg'))\n",
    "print(\"Number of positive revies\",poslen)\n",
    "print(\"Number of negative revies\",neglen)"
   ]
  },
  {
   "cell_type": "code",
   "execution_count": 6,
   "metadata": {},
   "outputs": [
    {
     "data": {
      "image/png": "[encoded data removed]",
      "text/plain": [
       "<Figure size 288x288 with 1 Axes>"
      ]
     },
     "metadata": {},
     "output_type": "display_data"
    }
   ],
   "source": [
    "#Generating Pie chart of the data\n",
    "fig = plt.figure(figsize=(4,4))\n",
    "# labels for classes\n",
    "labels = 'Positive', 'Negative'\n",
    "# Size\n",
    "sizes = [poslen,neglen]\n",
    "# Declare pie chart\n",
    "plt.pie(sizes, labels=labels, autopct='%1.1f%%', shadow=True, startangle=90)\n",
    "plt.axis('equal')\n",
    "plt.show()"
   ]
  },
  {
   "cell_type": "code",
   "execution_count": 7,
   "metadata": {},
   "outputs": [
    {
     "name": "stdout",
     "output_type": "stream",
     "text": [
      "[nltk_data] Downloading package stopwords to C:\\Users\\Jaydeep's_laptop\n",
      "[nltk_data]     .JAYDEEP\\AppData\\Roaming\\nltk_data...\n",
      "[nltk_data]   Unzipping corpora\\stopwords.zip.\n"
     ]
    },
    {
     "data": {
      "text/plain": [
       "True"
      ]
     },
     "execution_count": 7,
     "metadata": {},
     "output_type": "execute_result"
    }
   ],
   "source": [
    "nltk.download('stopwords')"
   ]
  },
  {
   "cell_type": "code",
   "execution_count": 8,
   "metadata": {},
   "outputs": [
    {
     "name": "stdout",
     "output_type": "stream",
     "text": [
      "['a', 'new', 'entry', 'in', 'the', '\"', 'revisionist', ...]\n"
     ]
    }
   ],
   "source": [
    "#manually analyzw the sentiment of a movie review\n",
    "feature = {}\n",
    "all_words = nltk.FreqDist(movie_reviews.words())\n",
    "feature_vector = list(all_words)[:4000]\n",
    "review = movie_reviews.words('neg/cv954_19932.txt')\n",
    "print(review)"
   ]
  },
  {
   "cell_type": "code",
   "execution_count": 13,
   "metadata": {},
   "outputs": [
    {
     "name": "stdout",
     "output_type": "stream",
     "text": [
      "Negative Review\n",
      "fact that charles bronson represents one of the most important movie icons of the 1980s represents one of the biggest and almost tragic ironies of that decade . \n",
      "tragedy lies in the fact that the icon status was earned less by quality of his work in movies , but the quantity . \n",
      "most of those movies were produced by cannon group , company led by israeli producers menahem golan and yoram globus . \n",
      "those two men probably thought that they could be the next roger corman , b- movie mentors of future hollywood legends . \n",
      "unfortunately , that didn't happened , and when cannon finally went bankrupt at the end of the decade , behind it stood the huge pile of cinematic garbage , that would require at least few centuries before it reaches the camp appeal . \n",
      "sadly for bronson , that garbage also contained numerous movies in which that capable character actor and action hero of the 1970s tried to raise their worth simply by being the main lead , and lowering his own reputation in process . \n",
      "on the other hand , bronson could take comfort in a fact that those movies were extremely popular , especially among the audience 3 or 4 times younger than bronson himself . \n",
      "one of such movies that seriously marred bronson's reputation is death wish 3 , third sequel in the series which began with death wish in 1974 . \n",
      "in the original movie , bronson played paul kersey , mild-mannered new york architect who turns into deadly street vigilante after his family fell victim to urban violence . \n",
      "that movie was far from masterpiece ; yet , in it the director michael winner was skillfully offering the cinematic remedy for very real disease of growing crime rates of the time ( on the same lines like siegel in dirty harry ) . \n",
      "unfortunately , six years later cannon group got rights to the character of paul kersey and began destroying it by pumping out sequels ; even the presence of its original director didn't stop the rapid decline of the quality . \n",
      "death wish 3 begins when kersey comes to visit an old friend , living in the urban wasteland of east new york , populated by young criminals and people too old or too poor to move out . \n",
      "before the reunion , kersey's friend falls victim to the street gang led by evil fraker ( played by gavan o'herlihy , probably the only noteworthy role in the film ) . \n",
      "kersey decides to avenge his death and slowly prepares for his crusade , while the police inspector shriker ( ed lauter ) , ants to use him as a secret weapon in his losing war against the urban crime . \n",
      "bronson , the main asset in this movie , plays the character who is nothing more than an efficient killing machine . \n",
      "although bronson's charisma does help in overcoming some implausibilities ( single man in his 60s and armed with a single pistol manages to wipe out dozens of opponents with superior firepower ) , the lack of emotions or bronson's own commitment could be seen in a very few lines spoken in a film . \n",
      "the movie authors were somewhat aware of that emotional shallowness , so they added romantic interest for their hero - public defender played by deborah raffin and conveniently terminated in order to give some more motives for kersey's crusade . \n",
      "on the other hand , emotions are much better played by confronting law-abiding , yet ethnically stereotyped citizens with their daily nemesis of street punks - ruthless enough to exercise their reign of terror on the entire city blocks , and stupid enough to be killed in droves by kersey . \n",
      "unfortunately , michael winner doesn't know how to work out the plot , and after torturing the viewers with mostly uninteresting characters and cliched and formulaic situations , ends this movie with a bang . \n",
      "the big showdown at the end - that turns east new york into the sarajevo-like battle zone - is probably the worst part of the movie , because of the poor editing and the cheap sets and props that give away the low budget . \n",
      "in short , this movie could be recommended only to the most fanatical charles bronson fans or for the people who are already desperate for 1980s nostalgia . \n",
      " ( special note for trekkies : marina sirtis , the actress who played counsellor deanna troi in star trek : the next generation could be spotted in a small role of portorican wife ) . \n",
      "\n"
     ]
    }
   ],
   "source": [
    "import random\n",
    "negative_review=movie_reviews.raw(negative[random.randint(0,len(negative))])\n",
    "print(\"Negative Review\")\n",
    "print(negative_review)"
   ]
  },
  {
   "cell_type": "code",
   "execution_count": 14,
   "metadata": {},
   "outputs": [],
   "source": [
    "import re\n",
    "import string\n",
    "from nltk.stem import PorterStemmer\n",
    "from nltk.tokenize import TweetTokenizer\n",
    "from nltk.corpus import stopwords\n",
    "from nltk.stem import PorterStemmer "
   ]
  },
  {
   "cell_type": "code",
   "execution_count": 15,
   "metadata": {},
   "outputs": [
    {
     "name": "stdout",
     "output_type": "stream",
     "text": [
      "fact that charles bronson represents one of the most important movie icons of the 1980s represents one of the biggest and almost tragic ironies of that decade . \n",
      "tragedy lies in the fact that the icon status was earned less by quality of his work in movies , but the quantity . \n",
      "most of those movies were produced by cannon group , company led by israeli producers menahem golan and yoram globus . \n",
      "those two men probably thought that they could be the next roger corman , b- movie mentors of future hollywood legends . \n",
      "unfortunately , that didn't happened , and when cannon finally went bankrupt at the end of the decade , behind it stood the huge pile of cinematic garbage , that would require at least few centuries before it reaches the camp appeal . \n",
      "sadly for bronson , that garbage also contained numerous movies in which that capable character actor and action hero of the 1970s tried to raise their worth simply by being the main lead , and lowering his own reputation in process . \n",
      "on the other hand , bronson could take comfort in a fact that those movies were extremely popular , especially among the audience 3 or 4 times younger than bronson himself . \n",
      "one of such movies that seriously marred bronson's reputation is death wish 3 , third sequel in the series which began with death wish in 1974 . \n",
      "in the original movie , bronson played paul kersey , mild-mannered new york architect who turns into deadly street vigilante after his family fell victim to urban violence . \n",
      "that movie was far from masterpiece ; yet , in it the director michael winner was skillfully offering the cinematic remedy for very real disease of growing crime rates of the time ( on the same lines like siegel in dirty harry ) . \n",
      "unfortunately , six years later cannon group got rights to the character of paul kersey and began destroying it by pumping out sequels ; even the presence of its original director didn't stop the rapid decline of the quality . \n",
      "death wish 3 begins when kersey comes to visit an old friend , living in the urban wasteland of east new york , populated by young criminals and people too old or too poor to move out . \n",
      "before the reunion , kersey's friend falls victim to the street gang led by evil fraker ( played by gavan o'herlihy , probably the only noteworthy role in the film ) . \n",
      "kersey decides to avenge his death and slowly prepares for his crusade , while the police inspector shriker ( ed lauter ) , ants to use him as a secret weapon in his losing war against the urban crime . \n",
      "bronson , the main asset in this movie , plays the character who is nothing more than an efficient killing machine . \n",
      "although bronson's charisma does help in overcoming some implausibilities ( single man in his 60s and armed with a single pistol manages to wipe out dozens of opponents with superior firepower ) , the lack of emotions or bronson's own commitment could be seen in a very few lines spoken in a film . \n",
      "the movie authors were somewhat aware of that emotional shallowness , so they added romantic interest for their hero - public defender played by deborah raffin and conveniently terminated in order to give some more motives for kersey's crusade . \n",
      "on the other hand , emotions are much better played by confronting law-abiding , yet ethnically stereotyped citizens with their daily nemesis of street punks - ruthless enough to exercise their reign of terror on the entire city blocks , and stupid enough to be killed in droves by kersey . \n",
      "unfortunately , michael winner doesn't know how to work out the plot , and after torturing the viewers with mostly uninteresting characters and cliched and formulaic situations , ends this movie with a bang . \n",
      "the big showdown at the end - that turns east new york into the sarajevo-like battle zone - is probably the worst part of the movie , because of the poor editing and the cheap sets and props that give away the low budget . \n",
      "in short , this movie could be recommended only to the most fanatical charles bronson fans or for the people who are already desperate for 1980s nostalgia . \n",
      " ( special note for trekkies : marina sirtis , the actress who played counsellor deanna troi in star trek : the next generation could be spotted in a small role of portorican wife ) . \n",
      "\n"
     ]
    }
   ],
   "source": [
    "# Removing hyperlinks\n",
    "re.sub(r'https?:\\/\\/.*[\\r\\n]*', '', negative_review)\n",
    "# Remove newlines\n",
    "re.sub('\\n', '', negative_review)\n",
    "print(negative_review)"
   ]
  },
  {
   "cell_type": "code",
   "execution_count": 16,
   "metadata": {},
   "outputs": [
    {
     "name": "stdout",
     "output_type": "stream",
     "text": [
      "\n",
      "Tokenized string:\n",
      "['fact', 'that', 'charles', 'bronson', 'represents', 'one', 'of', 'the', 'most', 'important', 'movie', 'icons', 'of', 'the', '1980s', 'represents', 'one', 'of', 'the', 'biggest', 'and', 'almost', 'tragic', 'ironies', 'of', 'that', 'decade', '.', 'tragedy', 'lies', 'in', 'the', 'fact', 'that', 'the', 'icon', 'status', 'was', 'earned', 'less', 'by', 'quality', 'of', 'his', 'work', 'in', 'movies', ',', 'but', 'the', 'quantity', '.', 'most', 'of', 'those', 'movies', 'were', 'produced', 'by', 'cannon', 'group', ',', 'company', 'led', 'by', 'israeli', 'producers', 'menahem', 'golan', 'and', 'yoram', 'globus', '.', 'those', 'two', 'men', 'probably', 'thought', 'that', 'they', 'could', 'be', 'the', 'next', 'roger', 'corman', ',', 'b', '-', 'movie', 'mentors', 'of', 'future', 'hollywood', 'legends', '.', 'unfortunately', ',', 'that', \"didn't\", 'happened', ',', 'and', 'when', 'cannon', 'finally', 'went', 'bankrupt', 'at', 'the', 'end', 'of', 'the', 'decade', ',', 'behind', 'it', 'stood', 'the', 'huge', 'pile', 'of', 'cinematic', 'garbage', ',', 'that', 'would', 'require', 'at', 'least', 'few', 'centuries', 'before', 'it', 'reaches', 'the', 'camp', 'appeal', '.', 'sadly', 'for', 'bronson', ',', 'that', 'garbage', 'also', 'contained', 'numerous', 'movies', 'in', 'which', 'that', 'capable', 'character', 'actor', 'and', 'action', 'hero', 'of', 'the', '1970s', 'tried', 'to', 'raise', 'their', 'worth', 'simply', 'by', 'being', 'the', 'main', 'lead', ',', 'and', 'lowering', 'his', 'own', 'reputation', 'in', 'process', '.', 'on', 'the', 'other', 'hand', ',', 'bronson', 'could', 'take', 'comfort', 'in', 'a', 'fact', 'that', 'those', 'movies', 'were', 'extremely', 'popular', ',', 'especially', 'among', 'the', 'audience', '3', 'or', '4', 'times', 'younger', 'than', 'bronson', 'himself', '.', 'one', 'of', 'such', 'movies', 'that', 'seriously', 'marred', \"bronson's\", 'reputation', 'is', 'death', 'wish', '3', ',', 'third', 'sequel', 'in', 'the', 'series', 'which', 'began', 'with', 'death', 'wish', 'in', '1974', '.', 'in', 'the', 'original', 'movie', ',', 'bronson', 'played', 'paul', 'kersey', ',', 'mild-mannered', 'new', 'york', 'architect', 'who', 'turns', 'into', 'deadly', 'street', 'vigilante', 'after', 'his', 'family', 'fell', 'victim', 'to', 'urban', 'violence', '.', 'that', 'movie', 'was', 'far', 'from', 'masterpiece', ';', 'yet', ',', 'in', 'it', 'the', 'director', 'michael', 'winner', 'was', 'skillfully', 'offering', 'the', 'cinematic', 'remedy', 'for', 'very', 'real', 'disease', 'of', 'growing', 'crime', 'rates', 'of', 'the', 'time', '(', 'on', 'the', 'same', 'lines', 'like', 'siegel', 'in', 'dirty', 'harry', ')', '.', 'unfortunately', ',', 'six', 'years', 'later', 'cannon', 'group', 'got', 'rights', 'to', 'the', 'character', 'of', 'paul', 'kersey', 'and', 'began', 'destroying', 'it', 'by', 'pumping', 'out', 'sequels', ';', 'even', 'the', 'presence', 'of', 'its', 'original', 'director', \"didn't\", 'stop', 'the', 'rapid', 'decline', 'of', 'the', 'quality', '.', 'death', 'wish', '3', 'begins', 'when', 'kersey', 'comes', 'to', 'visit', 'an', 'old', 'friend', ',', 'living', 'in', 'the', 'urban', 'wasteland', 'of', 'east', 'new', 'york', ',', 'populated', 'by', 'young', 'criminals', 'and', 'people', 'too', 'old', 'or', 'too', 'poor', 'to', 'move', 'out', '.', 'before', 'the', 'reunion', ',', \"kersey's\", 'friend', 'falls', 'victim', 'to', 'the', 'street', 'gang', 'led', 'by', 'evil', 'fraker', '(', 'played', 'by', 'gavan', \"o'herlihy\", ',', 'probably', 'the', 'only', 'noteworthy', 'role', 'in', 'the', 'film', ')', '.', 'kersey', 'decides', 'to', 'avenge', 'his', 'death', 'and', 'slowly', 'prepares', 'for', 'his', 'crusade', ',', 'while', 'the', 'police', 'inspector', 'shriker', '(', 'ed', 'lauter', ')', ',', 'ants', 'to', 'use', 'him', 'as', 'a', 'secret', 'weapon', 'in', 'his', 'losing', 'war', 'against', 'the', 'urban', 'crime', '.', 'bronson', ',', 'the', 'main', 'asset', 'in', 'this', 'movie', ',', 'plays', 'the', 'character', 'who', 'is', 'nothing', 'more', 'than', 'an', 'efficient', 'killing', 'machine', '.', 'although', \"bronson's\", 'charisma', 'does', 'help', 'in', 'overcoming', 'some', 'implausibilities', '(', 'single', 'man', 'in', 'his', '60s', 'and', 'armed', 'with', 'a', 'single', 'pistol', 'manages', 'to', 'wipe', 'out', 'dozens', 'of', 'opponents', 'with', 'superior', 'firepower', ')', ',', 'the', 'lack', 'of', 'emotions', 'or', \"bronson's\", 'own', 'commitment', 'could', 'be', 'seen', 'in', 'a', 'very', 'few', 'lines', 'spoken', 'in', 'a', 'film', '.', 'the', 'movie', 'authors', 'were', 'somewhat', 'aware', 'of', 'that', 'emotional', 'shallowness', ',', 'so', 'they', 'added', 'romantic', 'interest', 'for', 'their', 'hero', '-', 'public', 'defender', 'played', 'by', 'deborah', 'raffin', 'and', 'conveniently', 'terminated', 'in', 'order', 'to', 'give', 'some', 'more', 'motives', 'for', \"kersey's\", 'crusade', '.', 'on', 'the', 'other', 'hand', ',', 'emotions', 'are', 'much', 'better', 'played', 'by', 'confronting', 'law-abiding', ',', 'yet', 'ethnically', 'stereotyped', 'citizens', 'with', 'their', 'daily', 'nemesis', 'of', 'street', 'punks', '-', 'ruthless', 'enough', 'to', 'exercise', 'their', 'reign', 'of', 'terror', 'on', 'the', 'entire', 'city', 'blocks', ',', 'and', 'stupid', 'enough', 'to', 'be', 'killed', 'in', 'droves', 'by', 'kersey', '.', 'unfortunately', ',', 'michael', 'winner', \"doesn't\", 'know', 'how', 'to', 'work', 'out', 'the', 'plot', ',', 'and', 'after', 'torturing', 'the', 'viewers', 'with', 'mostly', 'uninteresting', 'characters', 'and', 'cliched', 'and', 'formulaic', 'situations', ',', 'ends', 'this', 'movie', 'with', 'a', 'bang', '.', 'the', 'big', 'showdown', 'at', 'the', 'end', '-', 'that', 'turns', 'east', 'new', 'york', 'into', 'the', 'sarajevo-like', 'battle', 'zone', '-', 'is', 'probably', 'the', 'worst', 'part', 'of', 'the', 'movie', ',', 'because', 'of', 'the', 'poor', 'editing', 'and', 'the', 'cheap', 'sets', 'and', 'props', 'that', 'give', 'away', 'the', 'low', 'budget', '.', 'in', 'short', ',', 'this', 'movie', 'could', 'be', 'recommended', 'only', 'to', 'the', 'most', 'fanatical', 'charles', 'bronson', 'fans', 'or', 'for', 'the', 'people', 'who', 'are', 'already', 'desperate', 'for', '1980s', 'nostalgia', '.', '(', 'special', 'note', 'for', 'trekkies', ':', 'marina', 'sirtis', ',', 'the', 'actress', 'who', 'played', 'counsellor', 'deanna', 'troi', 'in', 'star', 'trek', ':', 'the', 'next', 'generation', 'could', 'be', 'spotted', 'in', 'a', 'small', 'role', 'of', 'portorican', 'wife', ')', '.']\n"
     ]
    }
   ],
   "source": [
    "#Tokenizing the string\n",
    "# instantiate tokenizer class\n",
    "tokenizer = TweetTokenizer(preserve_case=False)\n",
    "# tokenize Reviews\n",
    "review_tokens = tokenizer.tokenize(negative_review)\n",
    "print()\n",
    "print('Tokenized string:')\n",
    "print(review_tokens)"
   ]
  },
  {
   "cell_type": "code",
   "execution_count": 17,
   "metadata": {},
   "outputs": [
    {
     "name": "stdout",
     "output_type": "stream",
     "text": [
      "Stop words\n",
      "\n",
      "['i', 'me', 'my', 'myself', 'we', 'our', 'ours', 'ourselves', 'you', \"you're\", \"you've\", \"you'll\", \"you'd\", 'your', 'yours', 'yourself', 'yourselves', 'he', 'him', 'his', 'himself', 'she', \"she's\", 'her', 'hers', 'herself', 'it', \"it's\", 'its', 'itself', 'they', 'them', 'their', 'theirs', 'themselves', 'what', 'which', 'who', 'whom', 'this', 'that', \"that'll\", 'these', 'those', 'am', 'is', 'are', 'was', 'were', 'be', 'been', 'being', 'have', 'has', 'had', 'having', 'do', 'does', 'did', 'doing', 'a', 'an', 'the', 'and', 'but', 'if', 'or', 'because', 'as', 'until', 'while', 'of', 'at', 'by', 'for', 'with', 'about', 'against', 'between', 'into', 'through', 'during', 'before', 'after', 'above', 'below', 'to', 'from', 'up', 'down', 'in', 'out', 'on', 'off', 'over', 'under', 'again', 'further', 'then', 'once', 'here', 'there', 'when', 'where', 'why', 'how', 'all', 'any', 'both', 'each', 'few', 'more', 'most', 'other', 'some', 'such', 'no', 'nor', 'not', 'only', 'own', 'same', 'so', 'than', 'too', 'very', 's', 't', 'can', 'will', 'just', 'don', \"don't\", 'should', \"should've\", 'now', 'd', 'll', 'm', 'o', 're', 've', 'y', 'ain', 'aren', \"aren't\", 'couldn', \"couldn't\", 'didn', \"didn't\", 'doesn', \"doesn't\", 'hadn', \"hadn't\", 'hasn', \"hasn't\", 'haven', \"haven't\", 'isn', \"isn't\", 'ma', 'mightn', \"mightn't\", 'mustn', \"mustn't\", 'needn', \"needn't\", 'shan', \"shan't\", 'shouldn', \"shouldn't\", 'wasn', \"wasn't\", 'weren', \"weren't\", 'won', \"won't\", 'wouldn', \"wouldn't\"]\n",
      "\n",
      "Punctuation\n",
      "\n",
      "!\"#$%&'()*+,-./:;<=>?@[\\]^_`{|}~\n"
     ]
    }
   ],
   "source": [
    "stopwords_english = stopwords.words('english')\n",
    "print('Stop words\\n')\n",
    "print(stopwords_english)\n",
    "print('\\nPunctuation\\n')\n",
    "print(string.punctuation)"
   ]
  },
  {
   "cell_type": "code",
   "execution_count": 18,
   "metadata": {},
   "outputs": [
    {
     "name": "stdout",
     "output_type": "stream",
     "text": [
      "removed stop words and punctuation:\n",
      "['fact', 'charles', 'bronson', 'represents', 'one', 'important', 'movie', 'icons', '1980s', 'represents', 'one', 'biggest', 'almost', 'tragic', 'ironies', 'decade', 'tragedy', 'lies', 'fact', 'icon', 'status', 'earned', 'less', 'quality', 'work', 'movies', 'quantity', 'movies', 'produced', 'cannon', 'group', 'company', 'led', 'israeli', 'producers', 'menahem', 'golan', 'yoram', 'globus', 'two', 'men', 'probably', 'thought', 'could', 'next', 'roger', 'corman', 'b', 'movie', 'mentors', 'future', 'hollywood', 'legends', 'unfortunately', 'happened', 'cannon', 'finally', 'went', 'bankrupt', 'end', 'decade', 'behind', 'stood', 'huge', 'pile', 'cinematic', 'garbage', 'would', 'require', 'least', 'centuries', 'reaches', 'camp', 'appeal', 'sadly', 'bronson', 'garbage', 'also', 'contained', 'numerous', 'movies', 'capable', 'character', 'actor', 'action', 'hero', '1970s', 'tried', 'raise', 'worth', 'simply', 'main', 'lead', 'lowering', 'reputation', 'process', 'hand', 'bronson', 'could', 'take', 'comfort', 'fact', 'movies', 'extremely', 'popular', 'especially', 'among', 'audience', '3', '4', 'times', 'younger', 'bronson', 'one', 'movies', 'seriously', 'marred', \"bronson's\", 'reputation', 'death', 'wish', '3', 'third', 'sequel', 'series', 'began', 'death', 'wish', '1974', 'original', 'movie', 'bronson', 'played', 'paul', 'kersey', 'mild-mannered', 'new', 'york', 'architect', 'turns', 'deadly', 'street', 'vigilante', 'family', 'fell', 'victim', 'urban', 'violence', 'movie', 'far', 'masterpiece', 'yet', 'director', 'michael', 'winner', 'skillfully', 'offering', 'cinematic', 'remedy', 'real', 'disease', 'growing', 'crime', 'rates', 'time', 'lines', 'like', 'siegel', 'dirty', 'harry', 'unfortunately', 'six', 'years', 'later', 'cannon', 'group', 'got', 'rights', 'character', 'paul', 'kersey', 'began', 'destroying', 'pumping', 'sequels', 'even', 'presence', 'original', 'director', 'stop', 'rapid', 'decline', 'quality', 'death', 'wish', '3', 'begins', 'kersey', 'comes', 'visit', 'old', 'friend', 'living', 'urban', 'wasteland', 'east', 'new', 'york', 'populated', 'young', 'criminals', 'people', 'old', 'poor', 'move', 'reunion', \"kersey's\", 'friend', 'falls', 'victim', 'street', 'gang', 'led', 'evil', 'fraker', 'played', 'gavan', \"o'herlihy\", 'probably', 'noteworthy', 'role', 'film', 'kersey', 'decides', 'avenge', 'death', 'slowly', 'prepares', 'crusade', 'police', 'inspector', 'shriker', 'ed', 'lauter', 'ants', 'use', 'secret', 'weapon', 'losing', 'war', 'urban', 'crime', 'bronson', 'main', 'asset', 'movie', 'plays', 'character', 'nothing', 'efficient', 'killing', 'machine', 'although', \"bronson's\", 'charisma', 'help', 'overcoming', 'implausibilities', 'single', 'man', '60s', 'armed', 'single', 'pistol', 'manages', 'wipe', 'dozens', 'opponents', 'superior', 'firepower', 'lack', 'emotions', \"bronson's\", 'commitment', 'could', 'seen', 'lines', 'spoken', 'film', 'movie', 'authors', 'somewhat', 'aware', 'emotional', 'shallowness', 'added', 'romantic', 'interest', 'hero', 'public', 'defender', 'played', 'deborah', 'raffin', 'conveniently', 'terminated', 'order', 'give', 'motives', \"kersey's\", 'crusade', 'hand', 'emotions', 'much', 'better', 'played', 'confronting', 'law-abiding', 'yet', 'ethnically', 'stereotyped', 'citizens', 'daily', 'nemesis', 'street', 'punks', 'ruthless', 'enough', 'exercise', 'reign', 'terror', 'entire', 'city', 'blocks', 'stupid', 'enough', 'killed', 'droves', 'kersey', 'unfortunately', 'michael', 'winner', 'know', 'work', 'plot', 'torturing', 'viewers', 'mostly', 'uninteresting', 'characters', 'cliched', 'formulaic', 'situations', 'ends', 'movie', 'bang', 'big', 'showdown', 'end', 'turns', 'east', 'new', 'york', 'sarajevo-like', 'battle', 'zone', 'probably', 'worst', 'part', 'movie', 'poor', 'editing', 'cheap', 'sets', 'props', 'give', 'away', 'low', 'budget', 'short', 'movie', 'could', 'recommended', 'fanatical', 'charles', 'bronson', 'fans', 'people', 'already', 'desperate', '1980s', 'nostalgia', 'special', 'note', 'trekkies', 'marina', 'sirtis', 'actress', 'played', 'counsellor', 'deanna', 'troi', 'star', 'trek', 'next', 'generation', 'could', 'spotted', 'small', 'role', 'portorican', 'wife']\n"
     ]
    }
   ],
   "source": [
    "review=[]\n",
    "for word in review_tokens: # Go through every word in your tokens list\n",
    "     if (word not in stopwords_english and word not in string.punctuation):\n",
    "             review.append(word)\n",
    "print('removed stop words and punctuation:')\n",
    "print(review)"
   ]
  },
  {
   "cell_type": "code",
   "execution_count": 19,
   "metadata": {},
   "outputs": [
    {
     "name": "stdout",
     "output_type": "stream",
     "text": [
      "stemmed words:\n",
      "['fact', 'charl', 'bronson', 'repres', 'one', 'import', 'movi', 'icon', '1980', 'repres', 'one', 'biggest', 'almost', 'tragic', 'ironi', 'decad', 'tragedi', 'lie', 'fact', 'icon', 'statu', 'earn', 'less', 'qualiti', 'work', 'movi', 'quantiti', 'movi', 'produc', 'cannon', 'group', 'compani', 'led', 'isra', 'produc', 'menahem', 'golan', 'yoram', 'globu', 'two', 'men', 'probabl', 'thought', 'could', 'next', 'roger', 'corman', 'b', 'movi', 'mentor', 'futur', 'hollywood', 'legend', 'unfortun', 'happen', 'cannon', 'final', 'went', 'bankrupt', 'end', 'decad', 'behind', 'stood', 'huge', 'pile', 'cinemat', 'garbag', 'would', 'requir', 'least', 'centuri', 'reach', 'camp', 'appeal', 'sadli', 'bronson', 'garbag', 'also', 'contain', 'numer', 'movi', 'capabl', 'charact', 'actor', 'action', 'hero', '1970', 'tri', 'rais', 'worth', 'simpli', 'main', 'lead', 'lower', 'reput', 'process', 'hand', 'bronson', 'could', 'take', 'comfort', 'fact', 'movi', 'extrem', 'popular', 'especi', 'among', 'audienc', '3', '4', 'time', 'younger', 'bronson', 'one', 'movi', 'serious', 'mar', \"bronson'\", 'reput', 'death', 'wish', '3', 'third', 'sequel', 'seri', 'began', 'death', 'wish', '1974', 'origin', 'movi', 'bronson', 'play', 'paul', 'kersey', 'mild-mann', 'new', 'york', 'architect', 'turn', 'deadli', 'street', 'vigilant', 'famili', 'fell', 'victim', 'urban', 'violenc', 'movi', 'far', 'masterpiec', 'yet', 'director', 'michael', 'winner', 'skill', 'offer', 'cinemat', 'remedi', 'real', 'diseas', 'grow', 'crime', 'rate', 'time', 'line', 'like', 'siegel', 'dirti', 'harri', 'unfortun', 'six', 'year', 'later', 'cannon', 'group', 'got', 'right', 'charact', 'paul', 'kersey', 'began', 'destroy', 'pump', 'sequel', 'even', 'presenc', 'origin', 'director', 'stop', 'rapid', 'declin', 'qualiti', 'death', 'wish', '3', 'begin', 'kersey', 'come', 'visit', 'old', 'friend', 'live', 'urban', 'wasteland', 'east', 'new', 'york', 'popul', 'young', 'crimin', 'peopl', 'old', 'poor', 'move', 'reunion', \"kersey'\", 'friend', 'fall', 'victim', 'street', 'gang', 'led', 'evil', 'fraker', 'play', 'gavan', \"o'herlihi\", 'probabl', 'noteworthi', 'role', 'film', 'kersey', 'decid', 'aveng', 'death', 'slowli', 'prepar', 'crusad', 'polic', 'inspector', 'shriker', 'ed', 'lauter', 'ant', 'use', 'secret', 'weapon', 'lose', 'war', 'urban', 'crime', 'bronson', 'main', 'asset', 'movi', 'play', 'charact', 'noth', 'effici', 'kill', 'machin', 'although', \"bronson'\", 'charisma', 'help', 'overcom', 'implaus', 'singl', 'man', '60', 'arm', 'singl', 'pistol', 'manag', 'wipe', 'dozen', 'oppon', 'superior', 'firepow', 'lack', 'emot', \"bronson'\", 'commit', 'could', 'seen', 'line', 'spoken', 'film', 'movi', 'author', 'somewhat', 'awar', 'emot', 'shallow', 'ad', 'romant', 'interest', 'hero', 'public', 'defend', 'play', 'deborah', 'raffin', 'conveni', 'termin', 'order', 'give', 'motiv', \"kersey'\", 'crusad', 'hand', 'emot', 'much', 'better', 'play', 'confront', 'law-abid', 'yet', 'ethnic', 'stereotyp', 'citizen', 'daili', 'nemesi', 'street', 'punk', 'ruthless', 'enough', 'exercis', 'reign', 'terror', 'entir', 'citi', 'block', 'stupid', 'enough', 'kill', 'drove', 'kersey', 'unfortun', 'michael', 'winner', 'know', 'work', 'plot', 'tortur', 'viewer', 'mostli', 'uninterest', 'charact', 'clich', 'formula', 'situat', 'end', 'movi', 'bang', 'big', 'showdown', 'end', 'turn', 'east', 'new', 'york', 'sarajevo-lik', 'battl', 'zone', 'probabl', 'worst', 'part', 'movi', 'poor', 'edit', 'cheap', 'set', 'prop', 'give', 'away', 'low', 'budget', 'short', 'movi', 'could', 'recommend', 'fanat', 'charl', 'bronson', 'fan', 'peopl', 'alreadi', 'desper', '1980', 'nostalgia', 'special', 'note', 'trekki', 'marina', 'sirti', 'actress', 'play', 'counsellor', 'deanna', 'troi', 'star', 'trek', 'next', 'gener', 'could', 'spot', 'small', 'role', 'portorican', 'wife']\n"
     ]
    }
   ],
   "source": [
    "#stemming\n",
    "# Instantiate stemming class\n",
    "stemmer = PorterStemmer()\n",
    "# Create an empty list to store the stems\n",
    "review_stem = []\n",
    "for word in review:\n",
    " stem_word = stemmer.stem(word) # stemming word\n",
    " review_stem.append(stem_word) # append to the list\n",
    "print('stemmed words:')\n",
    "print(review_stem)"
   ]
  },
  {
   "cell_type": "code",
   "execution_count": null,
   "metadata": {},
   "outputs": [],
   "source": []
  }
 ],
 "metadata": {
  "kernelspec": {
   "display_name": "Python 3",
   "language": "python",
   "name": "python3"
  },
  "language_info": {
   "codemirror_mode": {
    "name": "ipython",
    "version": 3
   },
   "file_extension": ".py",
   "mimetype": "text/x-python",
   "name": "python",
   "nbconvert_exporter": "python",
   "pygments_lexer": "ipython3",
   "version": "3.7.0"
  }
 },
 "nbformat": 4,
 "nbformat_minor": 2
}
