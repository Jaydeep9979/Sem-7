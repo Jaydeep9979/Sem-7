{
  "nbformat": 4,
  "nbformat_minor": 0,
  "metadata": {
    "colab": {
      "name": "066_01.ipynb",
      "provenance": []
    },
    "kernelspec": {
      "name": "python3",
      "display_name": "Python 3"
    }
  },
  "cells": [
    {
      "cell_type": "markdown",
      "metadata": {
        "id": "Am1IIUPDDLi8",
        "colab_type": "text"
      },
      "source": [
        "Task 1 :Try Linear Regression just using numpy (Without Tensorflow/Pytorch or other torch library). You can optionally use sklearn (if you want)"
      ]
    },
    {
      "cell_type": "code",
      "metadata": {
        "id": "YfjnAN41ChmE",
        "colab_type": "code",
        "colab": {}
      },
      "source": [
        "#import numpy library\n",
        "import numpy as np"
      ],
      "execution_count": 1,
      "outputs": []
    },
    {
      "cell_type": "code",
      "metadata": {
        "id": "hqZhIZfMDP-9",
        "colab_type": "code",
        "colab": {
          "base_uri": "https://localhost:8080/",
          "height": 34
        },
        "outputId": "1161552a-8605-47b4-deb1-ad78c81331d4"
      },
      "source": [
        "# Input (temp, rainfall, humidity)\n",
        "inputs = np.array([[73, 67, 43], \n",
        "                   [91, 88, 64], \n",
        "                   [87, 134, 58], \n",
        "                   [102, 43, 37], \n",
        "                   [69, 96, 70]], dtype='float32')\n",
        "# Target (apples)\n",
        "targets = np.array([[56], \n",
        "                    [81], \n",
        "                    [119], \n",
        "                    [22], \n",
        "                    [103]], dtype='float32')\n",
        "m = np.shape(targets)\n",
        "print(\"Data size is :\",m[0])"
      ],
      "execution_count": 2,
      "outputs": [
        {
          "output_type": "stream",
          "text": [
            "Data size is : 5\n"
          ],
          "name": "stdout"
        }
      ]
    },
    {
      "cell_type": "code",
      "metadata": {
        "id": "zGyM_EhaDS9D",
        "colab_type": "code",
        "colab": {
          "base_uri": "https://localhost:8080/",
          "height": 102
        },
        "outputId": "449a8736-b282-4d78-ab7b-15649be64f9e"
      },
      "source": [
        "#Add bias\n",
        "bias = np.ones(m[0])\n",
        "bias.shape = (1,m[0])\n",
        "new_input = np.concatenate((inputs,bias.T),axis=1)\n",
        "print(new_input)"
      ],
      "execution_count": 3,
      "outputs": [
        {
          "output_type": "stream",
          "text": [
            "[[ 73.  67.  43.   1.]\n",
            " [ 91.  88.  64.   1.]\n",
            " [ 87. 134.  58.   1.]\n",
            " [102.  43.  37.   1.]\n",
            " [ 69.  96.  70.   1.]]\n"
          ],
          "name": "stdout"
        }
      ]
    },
    {
      "cell_type": "code",
      "metadata": {
        "id": "9EnIzAQRDVE5",
        "colab_type": "code",
        "colab": {}
      },
      "source": [
        "#Define All Functions\n",
        "def gradientDescent(x,y,alpha,num_of_epochs,weight):\n",
        "  for i in range(0,num_of_epochs):\n",
        "    weight = weight - (alpha/m[0])*np.dot(x.T,(np.dot(x,weight)-y))\n",
        "  return weight\n",
        "\n",
        "def predict(input,weight):\n",
        "  return np.dot(input,weight)\n",
        "\n",
        "def costfunc(x,targets,weight):\n",
        "  term = (predict(x,weight)-targets)\n",
        "  term = np.dot(term.T,term)\n",
        "  return term/(2*m[0])"
      ],
      "execution_count": 4,
      "outputs": []
    },
    {
      "cell_type": "code",
      "metadata": {
        "id": "-ymNmwFUDYUA",
        "colab_type": "code",
        "colab": {}
      },
      "source": [
        "#Initialize weight with 0\n",
        "weight = np.zeros((new_input.shape[1],1),dtype='float32')\n",
        "weight.shape = (new_input.shape[1],1)"
      ],
      "execution_count": 5,
      "outputs": []
    },
    {
      "cell_type": "code",
      "metadata": {
        "id": "GZ_M6sFEDa4z",
        "colab_type": "code",
        "colab": {
          "base_uri": "https://localhost:8080/",
          "height": 34
        },
        "outputId": "8c22d055-5105-47b1-ce57-616db6cb5f45"
      },
      "source": [
        "#Intial Cost\n",
        "init_cost = costfunc(new_input,targets,weight)\n",
        "print(\"Initial Cost : \",int(init_cost))"
      ],
      "execution_count": 6,
      "outputs": [
        {
          "output_type": "stream",
          "text": [
            "Initial Cost :  3495\n"
          ],
          "name": "stdout"
        }
      ]
    },
    {
      "cell_type": "code",
      "metadata": {
        "id": "lYYIXRaQDdeR",
        "colab_type": "code",
        "colab": {}
      },
      "source": [
        "#Initialize alpha,num_of_epochs\n",
        "alpha = 0.00001\n",
        "num_of_epochs = 10000\n"
      ],
      "execution_count": 7,
      "outputs": []
    },
    {
      "cell_type": "code",
      "metadata": {
        "id": "F_39rZj3DgHm",
        "colab_type": "code",
        "colab": {}
      },
      "source": [
        "#find out weight of each feature\n",
        "final_weight = gradientDescent(new_input,targets,alpha,num_of_epochs,weight)"
      ],
      "execution_count": 8,
      "outputs": []
    },
    {
      "cell_type": "code",
      "metadata": {
        "id": "g7za8Yk1DjRx",
        "colab_type": "code",
        "colab": {
          "base_uri": "https://localhost:8080/",
          "height": 102
        },
        "outputId": "e2b2f862-f9dd-4315-f87c-7c0e4c581f67"
      },
      "source": [
        "print(\"Final weight:\")\n",
        "print(final_weight)"
      ],
      "execution_count": 9,
      "outputs": [
        {
          "output_type": "stream",
          "text": [
            "Final weight:\n",
            "[[-4.00196772e-01]\n",
            " [ 8.48044773e-01]\n",
            " [ 6.87453282e-01]\n",
            " [-8.26566154e-05]]\n"
          ],
          "name": "stdout"
        }
      ]
    },
    {
      "cell_type": "code",
      "metadata": {
        "id": "7xu9reAYDnIz",
        "colab_type": "code",
        "colab": {
          "base_uri": "https://localhost:8080/",
          "height": 34
        },
        "outputId": "dd070727-6349-4c44-daef-61d2efa1bcc6"
      },
      "source": [
        "final_cost = costfunc(new_input,targets,final_weight)\n",
        "print(\"Final cost : \",float(final_cost))"
      ],
      "execution_count": 10,
      "outputs": [
        {
          "output_type": "stream",
          "text": [
            "Final cost :  0.49174454181664\n"
          ],
          "name": "stdout"
        }
      ]
    },
    {
      "cell_type": "code",
      "metadata": {
        "id": "sSEzuxuzDpeE",
        "colab_type": "code",
        "colab": {
          "base_uri": "https://localhost:8080/",
          "height": 119
        },
        "outputId": "68375033-1b09-4f37-fb5b-e0489c2e7f8f"
      },
      "source": [
        "#Predict output\n",
        "predicted_output = predict(new_input,final_weight)\n",
        "print(\"predicted_output:\")\n",
        "print(predicted_output)"
      ],
      "execution_count": 11,
      "outputs": [
        {
          "output_type": "stream",
          "text": [
            "predicted_output:\n",
            "[[ 57.16504387]\n",
            " [ 82.20696112]\n",
            " [118.69308805]\n",
            " [ 21.08154323]\n",
            " [101.92036798]]\n"
          ],
          "name": "stdout"
        }
      ]
    },
    {
      "cell_type": "code",
      "metadata": {
        "id": "m6h5kNJMDsMo",
        "colab_type": "code",
        "colab": {
          "base_uri": "https://localhost:8080/",
          "height": 119
        },
        "outputId": "9b28c4f6-b4e2-415f-e265-4ce49c035e5f"
      },
      "source": [
        "#Actual target\n",
        "print(\"Actual Target:\")\n",
        "print(targets)"
      ],
      "execution_count": 12,
      "outputs": [
        {
          "output_type": "stream",
          "text": [
            "Actual Target:\n",
            "[[ 56.]\n",
            " [ 81.]\n",
            " [119.]\n",
            " [ 22.]\n",
            " [103.]]\n"
          ],
          "name": "stdout"
        }
      ]
    },
    {
      "cell_type": "code",
      "metadata": {
        "id": "2nygX3hKDvQt",
        "colab_type": "code",
        "colab": {}
      },
      "source": [
        ""
      ],
      "execution_count": null,
      "outputs": []
    }
  ]
}