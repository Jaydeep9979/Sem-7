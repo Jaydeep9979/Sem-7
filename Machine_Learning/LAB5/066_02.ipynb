{
  "nbformat": 4,
  "nbformat_minor": 0,
  "metadata": {
    "colab": {
      "name": "066_02.ipynb",
      "provenance": []
    },
    "kernelspec": {
      "name": "python3",
      "display_name": "Python 3"
    }
  },
  "cells": [
    {
      "cell_type": "markdown",
      "metadata": {
        "id": "oOyd7Epc_rsz",
        "colab_type": "text"
      },
      "source": [
        "Jaydeep Mahajan-CE066-ML-LAB5-Task2"
      ]
    },
    {
      "cell_type": "code",
      "metadata": {
        "id": "tW7E4kvw_jFe",
        "colab_type": "code",
        "colab": {}
      },
      "source": [
        "import tensorflow as tf\n",
        "import numpy as np"
      ],
      "execution_count": null,
      "outputs": []
    },
    {
      "cell_type": "code",
      "metadata": {
        "id": "UIE2e9XOAZPC",
        "colab_type": "code",
        "colab": {
          "base_uri": "https://localhost:8080/",
          "height": 34
        },
        "outputId": "749a5bf1-f95c-4bfb-8cee-790afe635448"
      },
      "source": [
        "print(\"Tensorflow version :-- \",tf.__version__)"
      ],
      "execution_count": null,
      "outputs": [
        {
          "output_type": "stream",
          "text": [
            "Tensorflow version :  2.3.0\n"
          ],
          "name": "stdout"
        }
      ]
    },
    {
      "cell_type": "code",
      "metadata": {
        "id": "TiBayLRKAbPN",
        "colab_type": "code",
        "colab": {
          "base_uri": "https://localhost:8080/",
          "height": 34
        },
        "outputId": "41f84811-7089-4150-92eb-21f7d8a52900"
      },
      "source": [
        "inputs = np.array([[73, 67, 43], \n",
        "                   [91, 88, 64], \n",
        "                   [87, 134, 58], \n",
        "                   [102, 43, 37], \n",
        "                   [69, 96, 70]], dtype='float32')\n",
        "\n",
        "targets = np.array([[56], \n",
        "                    [81], \n",
        "                    [119], \n",
        "                    [22], \n",
        "                    [103]], dtype='float32')\n",
        "m = np.shape(targets)\n",
        "print(\"Data size is-- :\",m[0])"
      ],
      "execution_count": null,
      "outputs": [
        {
          "output_type": "stream",
          "text": [
            "Data size is-- : 5\n"
          ],
          "name": "stdout"
        }
      ]
    },
    {
      "cell_type": "code",
      "metadata": {
        "id": "hUkJ5EH4AhwA",
        "colab_type": "code",
        "colab": {
          "base_uri": "https://localhost:8080/",
          "height": 255
        },
        "outputId": "78d9e3c5-944e-4cae-8114-05ba2b0464ca"
      },
      "source": [
        "x = tf.constant( inputs , dtype=tf.float32 )\n",
        "y = tf.constant( targets , dtype=tf.float32) \n",
        "print(\"Features :\")\n",
        "print(x)\n",
        "print(\"Targets :\")\n",
        "print(y)"
      ],
      "execution_count": null,
      "outputs": [
        {
          "output_type": "stream",
          "text": [
            "Features :\n",
            "tf.Tensor(\n",
            "[[ 73.  67.  43.]\n",
            " [ 91.  88.  64.]\n",
            " [ 87. 134.  58.]\n",
            " [102.  43.  37.]\n",
            " [ 69.  96.  70.]], shape=(5, 3), dtype=float32)\n",
            "Targets :\n",
            "tf.Tensor(\n",
            "[[ 56.]\n",
            " [ 81.]\n",
            " [119.]\n",
            " [ 22.]\n",
            " [103.]], shape=(5, 1), dtype=float32)\n"
          ],
          "name": "stdout"
        }
      ]
    },
    {
      "cell_type": "code",
      "metadata": {
        "id": "5dRXvlkaAkBq",
        "colab_type": "code",
        "colab": {
          "base_uri": "https://localhost:8080/",
          "height": 119
        },
        "outputId": "75d1f525-62f5-4782-e37c-638bb6a02cff"
      },
      "source": [
        "#Add bias\n",
        "bias = tf.ones([m[0],1],tf.float32)\n",
        "new_input = tf.concat([x,bias],1)\n",
        "print(new_input)"
      ],
      "execution_count": null,
      "outputs": [
        {
          "output_type": "stream",
          "text": [
            "tf.Tensor(\n",
            "[[ 73.  67.  43.   1.]\n",
            " [ 91.  88.  64.   1.]\n",
            " [ 87. 134.  58.   1.]\n",
            " [102.  43.  37.   1.]\n",
            " [ 69.  96.  70.   1.]], shape=(5, 4), dtype=float32)\n"
          ],
          "name": "stdout"
        }
      ]
    },
    {
      "cell_type": "code",
      "metadata": {
        "id": "REP0Nk66Amq9",
        "colab_type": "code",
        "colab": {
          "base_uri": "https://localhost:8080/",
          "height": 102
        },
        "outputId": "080a49ca-33cc-4f38-cb55-558f9d0d12bf"
      },
      "source": [
        "#Intialize weight with random\n",
        "random = tf.random.Generator.from_seed(74)\n",
        "weight = random.normal(shape=[new_input.shape[1],1])\n",
        "print(weight)"
      ],
      "execution_count": null,
      "outputs": [
        {
          "output_type": "stream",
          "text": [
            "tf.Tensor(\n",
            "[[-0.67008066]\n",
            " [-1.5614101 ]\n",
            " [ 0.6786617 ]\n",
            " [-1.0733451 ]], shape=(4, 1), dtype=float32)\n"
          ],
          "name": "stdout"
        }
      ]
    },
    {
      "cell_type": "code",
      "metadata": {
        "id": "S2dyT0uvApsI",
        "colab_type": "code",
        "colab": {}
      },
      "source": [
        "#Define All Functions\n",
        "def loss(y_pred,y):\n",
        "  diff = y_pred-y\n",
        "  diff_transpose = tf.transpose(diff)\n",
        "  loss = tf.tensordot(diff_transpose,diff,axes=1)/(2*m[0])\n",
        "  return loss\n",
        "\n",
        "def predict(x,weight):\n",
        "  y_pred = tf.tensordot(x,weight,axes=1)\n",
        "  return y_pred\n",
        "\n",
        "def gradientDescent(x,y,weight,alpha,num_of_epochs):\n",
        "  for i in range(0,num_of_epochs):\n",
        "     weight = weight - (alpha/m[0])*tf.tensordot(tf.transpose(x),(tf.tensordot(x,weight,axes=1)-y),axes=1)\n",
        "  return weight"
      ],
      "execution_count": null,
      "outputs": []
    },
    {
      "cell_type": "code",
      "metadata": {
        "id": "B0J8RpA_AtW6",
        "colab_type": "code",
        "colab": {
          "base_uri": "https://localhost:8080/",
          "height": 170
        },
        "outputId": "32e256e9-f904-48a4-93e4-6a5cee51767a"
      },
      "source": [
        "#Intial pred\n",
        "init_pred = predict(new_input,weight)\n",
        "print(\"Init Predicate ans:\")\n",
        "print(init_pred)\n",
        "\n",
        "#Intial loss\n",
        "init_loss = loss(init_pred,y)\n",
        "print(\"Init loss:\")\n",
        "print(float(init_loss)) "
      ],
      "execution_count": null,
      "outputs": [
        {
          "output_type": "stream",
          "text": [
            "Init Predicate ans:\n",
            "tf.Tensor(\n",
            "[[-125.42125]\n",
            " [-156.02043]\n",
            " [-229.23694]\n",
            " [-111.45172]\n",
            " [-149.69797]], shape=(5, 1), dtype=float32)\n",
            "Init loss:\n",
            "29202.693359375\n"
          ],
          "name": "stdout"
        }
      ]
    },
    {
      "cell_type": "code",
      "metadata": {
        "id": "GrLslPu8AvJq",
        "colab_type": "code",
        "colab": {}
      },
      "source": [
        "num_of_epochs = 1000\n",
        "alpha = 0.0001\n",
        "#find out weight of each feature\n",
        "final_weight = gradientDescent(new_input,y,weight,alpha,num_of_epochs)"
      ],
      "execution_count": null,
      "outputs": []
    },
    {
      "cell_type": "code",
      "metadata": {
        "id": "nd9kdwFFA8bY",
        "colab_type": "code",
        "colab": {
          "base_uri": "https://localhost:8080/",
          "height": 119
        },
        "outputId": "7c20f8dd-3dca-45d2-92c7-6b8fb3cb7566"
      },
      "source": [
        "print(\"Final weight:\")\n",
        "print(final_weight)"
      ],
      "execution_count": null,
      "outputs": [
        {
          "output_type": "stream",
          "text": [
            "Final weight:\n",
            "tf.Tensor(\n",
            "[[-0.3919538]\n",
            " [ 0.8478244]\n",
            " [ 0.6945543]\n",
            " [-1.0719632]], shape=(4, 1), dtype=float32)\n"
          ],
          "name": "stdout"
        }
      ]
    },
    {
      "cell_type": "code",
      "metadata": {
        "id": "nK9F1pBZBBHR",
        "colab_type": "code",
        "colab": {
          "base_uri": "https://localhost:8080/",
          "height": 136
        },
        "outputId": "83242ca8-59bd-4004-896d-028b860ed912"
      },
      "source": [
        "#Predict output\n",
        "predicted_output = predict(new_input,final_weight)\n",
        "print(\"predicted_output:\")\n",
        "print(predicted_output)"
      ],
      "execution_count": null,
      "outputs": [
        {
          "output_type": "stream",
          "text": [
            "predicted_output:\n",
            "tf.Tensor(\n",
            "[[ 56.985477]\n",
            " [ 82.32027 ]\n",
            " [118.72068 ]\n",
            " [ 21.10371 ]\n",
            " [101.89317 ]], shape=(5, 1), dtype=float32)\n"
          ],
          "name": "stdout"
        }
      ]
    },
    {
      "cell_type": "code",
      "metadata": {
        "id": "5ZFXK3e_BCtb",
        "colab_type": "code",
        "colab": {
          "base_uri": "https://localhost:8080/",
          "height": 34
        },
        "outputId": "33691310-587e-4b49-e295-f49d5d1e6e81"
      },
      "source": [
        "final_cost = loss(predicted_output,y)\n",
        "print(\"Final cost : \",float(final_cost))"
      ],
      "execution_count": null,
      "outputs": [
        {
          "output_type": "stream",
          "text": [
            "Final cost :  0.48206907510757446\n"
          ],
          "name": "stdout"
        }
      ]
    },
    {
      "cell_type": "code",
      "metadata": {
        "id": "tOzQkbTyBE3F",
        "colab_type": "code",
        "colab": {}
      },
      "source": [
        ""
      ],
      "execution_count": null,
      "outputs": []
    }
  ]
}