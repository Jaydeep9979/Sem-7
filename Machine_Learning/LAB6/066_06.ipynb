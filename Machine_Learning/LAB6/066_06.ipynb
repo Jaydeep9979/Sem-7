{
  "nbformat": 4,
  "nbformat_minor": 0,
  "metadata": {
    "colab": {
      "name": "066_06.ipynb",
      "provenance": []
    },
    "kernelspec": {
      "name": "python3",
      "display_name": "Python 3"
    }
  },
  "cells": [
    {
      "cell_type": "markdown",
      "metadata": {
        "id": "_PVtvjA7pZIS",
        "colab_type": "text"
      },
      "source": [
        "CE066- ML- LAB 6"
      ]
    },
    {
      "cell_type": "code",
      "metadata": {
        "id": "LD9D-RsYn1o6",
        "colab_type": "code",
        "colab": {}
      },
      "source": [
        "#import libraries\n",
        "import torch\n",
        "import numpy as np\n",
        "import pandas as pd\n",
        "import io\n",
        "from torch.utils.data import TensorDataset, DataLoader\n",
        "import torch.nn as nn"
      ],
      "execution_count": 1,
      "outputs": []
    },
    {
      "cell_type": "code",
      "metadata": {
        "id": "J9vb53k_piuX",
        "colab_type": "code",
        "colab": {}
      },
      "source": [
        "candidates = {'gmat': [780,750,690,710,680,730,690,720,740,690,610,690,710,680,770,610,580,650,540,590,620,600,550,550,570,670,660,580,650,660,640,620,660,660,680,650,670,580,590,690],\n",
        "              'gpa': [4,3.9,3.3,3.7,3.9,3.7,2.3,3.3,3.3,1.7,2.7,3.7,3.7,3.3,3.3,3,2.7,3.7,2.7,2.3,3.3,2,2.3,2.7,3,3.3,3.7,2.3,3.7,3.3,3,2.7,4,3.3,3.3,2.3,2.7,3.3,1.7,3.7],\n",
        "              'work_experience': [3,4,3,5,4,6,1,4,5,1,3,5,6,4,3,1,4,6,2,3,2,1,4,1,2,6,4,2,6,5,1,2,4,6,5,1,2,1,4,5],\n",
        "              'admitted': [1,1,0,1,0,1,0,1,1,0,0,1,1,0,1,0,0,1,0,0,1,0,0,0,0,1,1,0,1,1,0,0,1,1,1,0,0,0,0,1]\n",
        "              }\n",
        "data = pd.DataFrame(candidates,columns=['gmat','gpa','work_experience','admitted'])"
      ],
      "execution_count": 2,
      "outputs": []
    },
    {
      "cell_type": "code",
      "metadata": {
        "id": "wSELzp5upmq6",
        "colab_type": "code",
        "colab": {
          "base_uri": "https://localhost:8080/",
          "height": 51
        },
        "outputId": "e5a0d3a7-6251-4639-db8c-3dd6e9d965be"
      },
      "source": [
        "#define X and y (input and targets)\n",
        "X=data.iloc[:,:-1].values\n",
        "y=data.iloc[:,-1].values\n",
        "inputs = torch.tensor(X,dtype=torch.float32)\n",
        "targets = torch.tensor(y,dtype=torch.float32)\n",
        "targets.resize_(targets.shape[0],1)\n",
        "m=targets.shape[0]\n",
        "print(inputs.shape)\n",
        "print(targets.shape)"
      ],
      "execution_count": 3,
      "outputs": [
        {
          "output_type": "stream",
          "text": [
            "torch.Size([40, 3])\n",
            "torch.Size([40, 1])\n"
          ],
          "name": "stdout"
        }
      ]
    },
    {
      "cell_type": "code",
      "metadata": {
        "id": "Dh7Wf7rDprWp",
        "colab_type": "code",
        "colab": {
          "base_uri": "https://localhost:8080/",
          "height": 102
        },
        "outputId": "c3ae82e6-ee6d-4109-99dc-db9dbd37a0f2"
      },
      "source": [
        "#Add bias\n",
        "bias = torch.ones(targets.shape[0],dtype=torch.float32)\n",
        "bias.resize_(1,targets.shape[0])\n",
        "new_input = torch.cat((inputs,bias.t()),1)\n",
        "print(new_input[0:5])"
      ],
      "execution_count": 4,
      "outputs": [
        {
          "output_type": "stream",
          "text": [
            "tensor([[780.0000,   4.0000,   3.0000,   1.0000],\n",
            "        [750.0000,   3.9000,   4.0000,   1.0000],\n",
            "        [690.0000,   3.3000,   3.0000,   1.0000],\n",
            "        [710.0000,   3.7000,   5.0000,   1.0000],\n",
            "        [680.0000,   3.9000,   4.0000,   1.0000]])\n"
          ],
          "name": "stdout"
        }
      ]
    },
    {
      "cell_type": "code",
      "metadata": {
        "id": "pamPQw3qptwP",
        "colab_type": "code",
        "colab": {
          "base_uri": "https://localhost:8080/",
          "height": 102
        },
        "outputId": "80ff8c36-2eb3-4464-b18a-f34b8bb8decc"
      },
      "source": [
        "#Assign weight to random values\n",
        "weight = torch.rand((new_input.shape[1],1),dtype=torch.float32)\n",
        "weight.resize_(new_input.shape[1],1)\n",
        "print(weight)\n",
        "print(weight.shape)"
      ],
      "execution_count": 5,
      "outputs": [
        {
          "output_type": "stream",
          "text": [
            "tensor([[0.7259],\n",
            "        [0.9275],\n",
            "        [0.4322],\n",
            "        [0.8476]])\n",
            "torch.Size([4, 1])\n"
          ],
          "name": "stdout"
        }
      ]
    },
    {
      "cell_type": "code",
      "metadata": {
        "id": "DV0qk307pvf3",
        "colab_type": "code",
        "colab": {}
      },
      "source": [
        "#Define All Functions\n",
        "def gradientDescent(x,y,alpha,num_of_epochs,weight):\n",
        "  for i in range(0,num_of_epochs):\n",
        "    weight = weight - (alpha)*torch.mm(x.t(),(sigmoid(x,weight)-y))\n",
        "  return weight\n",
        "\n",
        "def sigmoid(input,weight):\n",
        "  z=torch.mm(input,weight)\n",
        "  return 1/(1+torch.exp(-z))\n",
        "\n",
        "def predict(prob):\n",
        "  if prob>=0.5:\n",
        "    return 1\n",
        "  else:\n",
        "    return 0\n",
        "    \n",
        "def cross_entropy(y_pred,y):\n",
        "  return -torch.sum(y*torch.log(y_pred)+(1-y)*torch.log(1-y_pred))"
      ],
      "execution_count": 6,
      "outputs": []
    },
    {
      "cell_type": "code",
      "metadata": {
        "id": "uBoLTH01pxWd",
        "colab_type": "code",
        "colab": {}
      },
      "source": [
        "#Define alpha and num_of_epochs\n",
        "alpha = 1e-6\n",
        "num_of_epochs = 1000000"
      ],
      "execution_count": 7,
      "outputs": []
    },
    {
      "cell_type": "code",
      "metadata": {
        "id": "x-sjQ3zOpz_j",
        "colab_type": "code",
        "colab": {}
      },
      "source": [
        "#model execution for num_of_epochs\n",
        "final_weight = gradientDescent(new_input,targets,alpha,num_of_epochs,weight)"
      ],
      "execution_count": 8,
      "outputs": []
    },
    {
      "cell_type": "code",
      "metadata": {
        "id": "osqYns5rp13V",
        "colab_type": "code",
        "colab": {
          "base_uri": "https://localhost:8080/",
          "height": 85
        },
        "outputId": "db025f7b-0c42-456f-c1d6-5e0adc7613b7"
      },
      "source": [
        "#Final weight\n",
        "print(final_weight)"
      ],
      "execution_count": 9,
      "outputs": [
        {
          "output_type": "stream",
          "text": [
            "tensor([[-1.4763e-02],\n",
            "        [ 2.0041e+00],\n",
            "        [ 1.2058e+00],\n",
            "        [ 1.0438e-03]])\n"
          ],
          "name": "stdout"
        }
      ]
    },
    {
      "cell_type": "code",
      "metadata": {
        "id": "46a4RUMBp4W-",
        "colab_type": "code",
        "colab": {
          "base_uri": "https://localhost:8080/",
          "height": 102
        },
        "outputId": "4857f10e-5991-4036-8193-3aa055a2520e"
      },
      "source": [
        "#predict probability\n",
        "y_prob=torch.zeros(m,1)\n",
        "y_prob=sigmoid(new_input,final_weight)\n",
        "print(y_prob[0:5])"
      ],
      "execution_count": 10,
      "outputs": [
        {
          "output_type": "stream",
          "text": [
            "tensor([[0.5299],\n",
            "        [0.8275],\n",
            "        [0.5114],\n",
            "        [0.9509],\n",
            "        [0.9310]])\n"
          ],
          "name": "stdout"
        }
      ]
    },
    {
      "cell_type": "code",
      "metadata": {
        "id": "QQRWuJgLp80H",
        "colab_type": "code",
        "colab": {
          "base_uri": "https://localhost:8080/",
          "height": 34
        },
        "outputId": "b357d7c1-c7c8-4a06-b8e1-66c17b075fc8"
      },
      "source": [
        "#find loss\n",
        "loss=cross_entropy(y_prob,targets)\n",
        "print(loss)"
      ],
      "execution_count": 11,
      "outputs": [
        {
          "output_type": "stream",
          "text": [
            "tensor(16.8430)\n"
          ],
          "name": "stdout"
        }
      ]
    },
    {
      "cell_type": "code",
      "metadata": {
        "id": "PU8w02hgqJ0D",
        "colab_type": "code",
        "colab": {
          "base_uri": "https://localhost:8080/",
          "height": 697
        },
        "outputId": "c76cb706-65dc-4f27-b5fc-0c26c70cf724"
      },
      "source": [
        "#Predict class using probabily with given thresold=0.5\n",
        "for i,prob in enumerate(y_prob):\n",
        "  y_pred = predict(prob)\n",
        "  print(\"Probability : \",prob,\"Predicted class : \",y_pred,\"Actual class: \",targets[i])"
      ],
      "execution_count": 12,
      "outputs": [
        {
          "output_type": "stream",
          "text": [
            "Probability :  tensor([0.5299]) Predicted class :  1 Actual class:  tensor([1.])\n",
            "Probability :  tensor([0.8275]) Predicted class :  1 Actual class:  tensor([1.])\n",
            "Probability :  tensor([0.5114]) Predicted class :  1 Actual class:  tensor([0.])\n",
            "Probability :  tensor([0.9509]) Predicted class :  1 Actual class:  tensor([1.])\n",
            "Probability :  tensor([0.9310]) Predicted class :  1 Actual class:  tensor([0.])\n",
            "Probability :  tensor([0.9797]) Predicted class :  1 Actual class:  tensor([1.])\n",
            "Probability :  tensor([0.0125]) Predicted class :  0 Actual class:  tensor([0.])\n",
            "Probability :  tensor([0.6918]) Predicted class :  1 Actual class:  tensor([1.])\n",
            "Probability :  tensor([0.8480]) Predicted class :  1 Actual class:  tensor([1.])\n",
            "Probability :  tensor([0.0038]) Predicted class :  0 Actual class:  tensor([0.])\n",
            "Probability :  tensor([0.5061]) Predicted class :  1 Actual class:  tensor([0.])\n",
            "Probability :  tensor([0.9630]) Predicted class :  1 Actual class:  tensor([1.])\n",
            "Probability :  tensor([0.9848]) Predicted class :  1 Actual class:  tensor([1.])\n",
            "Probability :  tensor([0.8020]) Predicted class :  1 Actual class:  tensor([0.])\n",
            "Probability :  tensor([0.2432]) Predicted class :  0 Actual class:  tensor([1.])\n",
            "Probability :  tensor([0.1435]) Predicted class :  0 Actual class:  tensor([0.])\n",
            "Probability :  tensor([0.8420]) Predicted class :  1 Actual class:  tensor([0.])\n",
            "Probability :  tensor([0.9937]) Predicted class :  1 Actual class:  tensor([1.])\n",
            "Probability :  tensor([0.4630]) Predicted class :  0 Actual class:  tensor([0.])\n",
            "Probability :  tensor([0.3817]) Predicted class :  0 Actual class:  tensor([0.])\n",
            "Probability :  tensor([0.4684]) Predicted class :  0 Actual class:  tensor([1.])\n",
            "Probability :  tensor([0.0255]) Predicted class :  0 Actual class:  tensor([0.])\n",
            "Probability :  tensor([0.7882]) Predicted class :  1 Actual class:  tensor([0.])\n",
            "Probability :  tensor([0.1822]) Predicted class :  0 Actual class:  tensor([0.])\n",
            "Probability :  tensor([0.5025]) Predicted class :  1 Actual class:  tensor([0.])\n",
            "Probability :  tensor([0.9813]) Predicted class :  1 Actual class:  tensor([1.])\n",
            "Probability :  tensor([0.9239]) Predicted class :  1 Actual class:  tensor([1.])\n",
            "Probability :  tensor([0.1765]) Predicted class :  0 Actual class:  tensor([0.])\n",
            "Probability :  tensor([0.9937]) Predicted class :  1 Actual class:  tensor([1.])\n",
            "Probability :  tensor([0.9479]) Predicted class :  1 Actual class:  tensor([1.])\n",
            "Probability :  tensor([0.0972]) Predicted class :  0 Actual class:  tensor([0.])\n",
            "Probability :  tensor([0.2093]) Predicted class :  0 Actual class:  tensor([0.])\n",
            "Probability :  tensor([0.9568]) Predicted class :  1 Actual class:  tensor([1.])\n",
            "Probability :  tensor([0.9838]) Predicted class :  1 Actual class:  tensor([1.])\n",
            "Probability :  tensor([0.9312]) Predicted class :  1 Actual class:  tensor([1.])\n",
            "Probability :  tensor([0.0223]) Predicted class :  0 Actual class:  tensor([0.])\n",
            "Probability :  tensor([0.1123]) Predicted class :  0 Actual class:  tensor([0.])\n",
            "Probability :  tensor([0.3226]) Predicted class :  0 Actual class:  tensor([0.])\n",
            "Probability :  tensor([0.3825]) Predicted class :  0 Actual class:  tensor([0.])\n",
            "Probability :  tensor([0.9630]) Predicted class :  1 Actual class:  tensor([1.])\n"
          ],
          "name": "stdout"
        }
      ]
    },
    {
      "cell_type": "code",
      "metadata": {
        "id": "nplFdQauqLhy",
        "colab_type": "code",
        "colab": {}
      },
      "source": [
        ""
      ],
      "execution_count": null,
      "outputs": []
    }
  ]
}